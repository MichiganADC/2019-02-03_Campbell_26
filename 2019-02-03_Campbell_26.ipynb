{
 "cells": [
  {
   "cell_type": "markdown",
   "metadata": {},
   "source": [
    "# 2019-02-03_Campbell_26"
   ]
  },
  {
   "cell_type": "markdown",
   "metadata": {},
   "source": [
    "| Info   |                      |\n",
    "|--------|----------------------|\n",
    "| Author | L. D. Nicolas May    |\n",
    "| Date   | 2019-02-23           |\n",
    "| Note   | This is a re-creation of a dataset that was built using R in order to get data munging experience with Python |"
   ]
  },
  {
   "cell_type": "markdown",
   "metadata": {},
   "source": [
    "## Load Requirements"
   ]
  },
  {
   "cell_type": "markdown",
   "metadata": {},
   "source": [
    "### Load useful globals and functions"
   ]
  },
  {
   "cell_type": "code",
   "execution_count": 1,
   "metadata": {},
   "outputs": [],
   "source": [
    "from config import *\n",
    "from madc_helpers import *"
   ]
  },
  {
   "cell_type": "markdown",
   "metadata": {},
   "source": [
    "### Load packages"
   ]
  },
  {
   "cell_type": "code",
   "execution_count": 2,
   "metadata": {},
   "outputs": [],
   "source": [
    "# Package(s) for REDCap API\n",
    "import certifi\n",
    "\n",
    "# Package(s) for munging data\n",
    "import pandas as pd\n",
    "import numpy as np\n",
    "import re\n",
    "from collections import OrderedDict"
   ]
  },
  {
   "cell_type": "markdown",
   "metadata": {},
   "source": [
    "## Get Data"
   ]
  },
  {
   "cell_type": "markdown",
   "metadata": {},
   "source": [
    "### Define data fields and forms"
   ]
  },
  {
   "cell_type": "markdown",
   "metadata": {},
   "source": [
    "#### UDS 3"
   ]
  },
  {
   "cell_type": "code",
   "execution_count": 3,
   "metadata": {},
   "outputs": [],
   "source": [
    "#---------#---------#---------#---------#---------#---------#---------#---------\n",
    "\n",
    "# FIELDS\n",
    "\n",
    "# Form Header\n",
    "fields_u3_hd_raw = [\n",
    "    'ptid'\n",
    "    , 'form_date'\n",
    "]\n",
    "# Form C2 - IVP\n",
    "fields_u3_c2_raw = [\n",
    "    'mocatots'\n",
    "    , 'trailb_c2'\n",
    "    , 'trailbrr_c2'\n",
    "    , 'trailbli_c2'\n",
    "    , 'trailb_c2z'\n",
    "]\n",
    "# Form D1 - IVP\n",
    "fields_u3_d1_raw = [\n",
    "    'normcog'    # NL\n",
    "    , 'mciamem'  # MCI\n",
    "    , 'mciaplus' # MCI\n",
    "    , 'mcinon1'  # MCI\n",
    "    , 'mcinon2'  # MCI\n",
    "    , 'impnomci' # Impaired not MCI\n",
    "    , 'alzdis'   # AD etio\n",
    "    , 'alzdisif'\n",
    "    , 'lbdis'    # LBD etio\n",
    "    , 'lbdif'\n",
    "    , 'msa'      # MSA etio\n",
    "    , 'msaif'\n",
    "    , 'psp'      # PSP etio\n",
    "    , 'pspif'\n",
    "    , 'ftldmo'   # FTLD motor etio\n",
    "    , 'ftldmoif'\n",
    "    , 'ftldnos'  # FTLD NOS etio\n",
    "    , 'ftldnoif'\n",
    "]\n",
    "# Combine fields, prefixing C2 and D1 with \"fu_\" and \"tele_\"\n",
    "fields_u3_raw = \\\n",
    "    fields_u3_hd_raw + \\\n",
    "    fields_u3_c2_raw + \\\n",
    "    ['fu_' + f for f in fields_u3_c2_raw] + \\\n",
    "    ['tele_' + f for f in fields_u3_c2_raw] + \\\n",
    "    fields_u3_d1_raw + \\\n",
    "    ['fu_' + f for f in fields_u3_d1_raw] + \\\n",
    "    ['tele_' + f for f in fields_u3_d1_raw]\n",
    "\n",
    "fields_u3 = ','.join(fields_u3_raw)\n",
    "# print(fields_u3)\n",
    "\n",
    "\n",
    "# FORMS\n",
    "\n",
    "forms_u3_raw = [\n",
    "    # Lichtenberg Financial Decision Making Self Efficacy Form\n",
    "    'financial_decision_making_self_efficacy_form'\n",
    "    # Lichtenberg Financial Decision Making Screening Scale\n",
    "    , 'lfdss_for_professionals'\n",
    "]\n",
    "\n",
    "forms_u3 = ','.join(forms_u3_raw)\n",
    "# print(forms_u3)"
   ]
  },
  {
   "cell_type": "code",
   "execution_count": 4,
   "metadata": {},
   "outputs": [
    {
     "data": {
      "text/plain": [
       "'/Users/ldmay/anaconda3/lib/python3.7/site-packages/certifi/cacert.pem'"
      ]
     },
     "execution_count": 4,
     "metadata": {},
     "output_type": "execute_result"
    }
   ],
   "source": [
    "certifi.where()"
   ]
  },
  {
   "cell_type": "code",
   "execution_count": 5,
   "metadata": {},
   "outputs": [],
   "source": [
    "# Get JSON\n",
    "json_u3 = rc_get_api_data(uri    = REDCAP_API_URI,\n",
    "                          token  = REDCAP_API_TOKEN_UDS3n,\n",
    "                          fields = fields_u3,\n",
    "                          forms  = forms_u3,\n",
    "                          secure = False)"
   ]
  },
  {
   "cell_type": "code",
   "execution_count": 6,
   "metadata": {},
   "outputs": [],
   "source": [
    "# Parse JSON as pandas df\n",
    "df_u3 = pd.read_json(json_u3, convert_dates=['form_date'])"
   ]
  },
  {
   "cell_type": "markdown",
   "metadata": {},
   "source": [
    "Writing to then reading from CSV makes datatype inference more successful. Why, `pandas`? Why?"
   ]
  },
  {
   "cell_type": "code",
   "execution_count": 7,
   "metadata": {},
   "outputs": [],
   "source": [
    "# Write to CSV\n",
    "df_u3.to_csv('py_df_u3.csv')\n",
    "\n",
    "# Read CSV\n",
    "df_u3 = pd.read_csv('py_df_u3.csv', sep=',')"
   ]
  },
  {
   "cell_type": "code",
   "execution_count": 8,
   "metadata": {},
   "outputs": [],
   "source": [
    "# df_u3.head(n=10)"
   ]
  },
  {
   "cell_type": "code",
   "execution_count": 9,
   "metadata": {},
   "outputs": [],
   "source": [
    "# df_u3.dtypes"
   ]
  },
  {
   "cell_type": "code",
   "execution_count": 10,
   "metadata": {},
   "outputs": [],
   "source": [
    "# Reorder `df_u3` columns as they're originally listed\n",
    "\n",
    "# fields_u3_raw[1:20]\n",
    "\n",
    "orig_cols = df_u3.columns.tolist()\n",
    "# cols\n",
    "\n",
    "ordered_cols = list(filter(lambda f: f in orig_cols, fields_u3_raw))\n",
    "# ordered_cols\n",
    "remaining_cols = list(filter(lambda f: f not in ordered_cols, orig_cols))\n",
    "# remaining_cols\n",
    "reordered_cols = ordered_cols + remaining_cols\n",
    "\n",
    "df_u3 = df_u3[reordered_cols]"
   ]
  },
  {
   "cell_type": "markdown",
   "metadata": {},
   "source": [
    "## Process Data"
   ]
  },
  {
   "cell_type": "markdown",
   "metadata": {},
   "source": [
    "### Clean Data"
   ]
  },
  {
   "cell_type": "markdown",
   "metadata": {},
   "source": [
    "#### UDS 3"
   ]
  },
  {
   "cell_type": "markdown",
   "metadata": {},
   "source": [
    "Clean out DDE records (`--1`, `--2`)"
   ]
  },
  {
   "cell_type": "code",
   "execution_count": 11,
   "metadata": {},
   "outputs": [
    {
     "name": "stdout",
     "output_type": "stream",
     "text": [
      "(593, 213)\n"
     ]
    }
   ],
   "source": [
    "print(df_u3.shape)"
   ]
  },
  {
   "cell_type": "code",
   "execution_count": 12,
   "metadata": {},
   "outputs": [],
   "source": [
    "# df_u3['ptid'].str.match(r'^UM\\d{8}$')\n",
    "df_u3_cln = df_u3.loc[df_u3['ptid'].str.match(r'^UM\\d{8}$')]"
   ]
  },
  {
   "cell_type": "code",
   "execution_count": 13,
   "metadata": {},
   "outputs": [
    {
     "name": "stdout",
     "output_type": "stream",
     "text": [
      "(503, 213)\n"
     ]
    }
   ],
   "source": [
    "print(df_u3_cln.shape)"
   ]
  },
  {
   "cell_type": "markdown",
   "metadata": {},
   "source": [
    "Clean out records missing `form_date`s"
   ]
  },
  {
   "cell_type": "code",
   "execution_count": 14,
   "metadata": {},
   "outputs": [],
   "source": [
    "# df_u3['form_date'].notnull()\n",
    "df_u3_cln = df_u3_cln.loc[df_u3['form_date'].notnull()]"
   ]
  },
  {
   "cell_type": "code",
   "execution_count": 15,
   "metadata": {},
   "outputs": [
    {
     "name": "stdout",
     "output_type": "stream",
     "text": [
      "(477, 213)\n"
     ]
    }
   ],
   "source": [
    "print(df_u3_cln.shape)"
   ]
  },
  {
   "cell_type": "markdown",
   "metadata": {},
   "source": [
    "### Mutate Data"
   ]
  },
  {
   "cell_type": "markdown",
   "metadata": {},
   "source": [
    "#### UDS 3"
   ]
  },
  {
   "cell_type": "markdown",
   "metadata": {},
   "source": [
    "Coalese IVP/FVP/TVP fields (`x`, `fu_x`, `tele_x`)."
   ]
  },
  {
   "cell_type": "markdown",
   "metadata": {},
   "source": [
    "To coalese IVP/FVP/TVP fields, we first have to create a smarter function that sniffs out the IVP/FVP/TVP fields. So given column names `['foo', 'bar', 'baz', 'fu_bar', 'tele_baz', 'fu_qux', 'tele_qux']`, we get `['foo', 'bar', 'baz', 'qux']` back."
   ]
  },
  {
   "cell_type": "code",
   "execution_count": 16,
   "metadata": {},
   "outputs": [],
   "source": [
    "# `coalesce_ift_cols` from `madc_helpers` import\n",
    "df_u3_cln_mut = coalesce_ift_cols(df_u3_cln)"
   ]
  },
  {
   "cell_type": "code",
   "execution_count": 17,
   "metadata": {},
   "outputs": [],
   "source": [
    "# Write to then read from CSV\n",
    "df_u3_cln_mut.to_csv('df_u3_cln_mut.csv')\n",
    "df_u3_cln_mut = pd.read_csv('df_u3_cln_mut.csv')"
   ]
  },
  {
   "cell_type": "markdown",
   "metadata": {},
   "source": [
    "Simplify diagnosis and etiology fields. (Such a pain-in-the-ass with Python.)"
   ]
  },
  {
   "cell_type": "code",
   "execution_count": 18,
   "metadata": {},
   "outputs": [],
   "source": [
    "df_u3_cln_mut['uds_dx_der'] = None"
   ]
  },
  {
   "cell_type": "code",
   "execution_count": 19,
   "metadata": {},
   "outputs": [],
   "source": [
    "# FTLD\n",
    "df_u3_cln_mut['uds_dx_der'] = \\\n",
    "np.where((df_u3_cln_mut['ftldnos'] == 1.0) & \n",
    "         (df_u3_cln_mut['ftldnoif'] == 1.0), \n",
    "         'FTLD', df_u3_cln_mut['uds_dx_der'])"
   ]
  },
  {
   "cell_type": "code",
   "execution_count": 20,
   "metadata": {},
   "outputs": [],
   "source": [
    "# FTLD\n",
    "df_u3_cln_mut['uds_dx_der'] = \\\n",
    "np.where((df_u3_cln_mut['ftldmo'] == 1.0) & \n",
    "         (df_u3_cln_mut['ftldmoif'] == 1.0), \n",
    "         'FTLD', df_u3_cln_mut['uds_dx_der'])"
   ]
  },
  {
   "cell_type": "code",
   "execution_count": 21,
   "metadata": {},
   "outputs": [],
   "source": [
    "# PSP\n",
    "df_u3_cln_mut['uds_dx_der'] = \\\n",
    "np.where((df_u3_cln_mut['psp'] == 1.0) & \n",
    "         (df_u3_cln_mut['pspif'] == 1.0), \n",
    "         'PSP', df_u3_cln_mut['uds_dx_der'])"
   ]
  },
  {
   "cell_type": "code",
   "execution_count": 22,
   "metadata": {},
   "outputs": [],
   "source": [
    "# MSA\n",
    "df_u3_cln_mut['uds_dx_der'] = \\\n",
    "np.where((df_u3_cln_mut['msa'] == 1.0) & \n",
    "         (df_u3_cln_mut['msaif'] == 1.0), \n",
    "         'MSA', df_u3_cln_mut['uds_dx_der'])"
   ]
  },
  {
   "cell_type": "code",
   "execution_count": 23,
   "metadata": {},
   "outputs": [],
   "source": [
    "# LBD\n",
    "df_u3_cln_mut['uds_dx_der'] = \\\n",
    "np.where((df_u3_cln_mut['lbdis'] == 1.0) & \n",
    "         (df_u3_cln_mut['lbdif'] == 1.0), \n",
    "         'LBD', df_u3_cln_mut['uds_dx_der'])"
   ]
  },
  {
   "cell_type": "code",
   "execution_count": 24,
   "metadata": {},
   "outputs": [],
   "source": [
    "# AD\n",
    "df_u3_cln_mut['uds_dx_der'] = \\\n",
    "np.where((df_u3_cln_mut['alzdis'] == 1.0) & \n",
    "         (df_u3_cln_mut['alzdisif'] == 1.0), \n",
    "         'AD', df_u3_cln_mut['uds_dx_der'])"
   ]
  },
  {
   "cell_type": "code",
   "execution_count": 25,
   "metadata": {},
   "outputs": [],
   "source": [
    "# Impaired no MCI\n",
    "df_u3_cln_mut['uds_dx_der'] = \\\n",
    "np.where(df_u3_cln_mut['impnomci'] == 1.0, \n",
    "         'Impaired no MCI', df_u3_cln_mut['uds_dx_der'])"
   ]
  },
  {
   "cell_type": "code",
   "execution_count": 26,
   "metadata": {},
   "outputs": [],
   "source": [
    "# MCI\n",
    "df_u3_cln_mut['uds_dx_der'] = \\\n",
    "np.where(df_u3_cln_mut['mcinon2'] == 1.0, \n",
    "         'MCI', df_u3_cln_mut['uds_dx_der'])"
   ]
  },
  {
   "cell_type": "code",
   "execution_count": 27,
   "metadata": {},
   "outputs": [],
   "source": [
    "# MCI\n",
    "df_u3_cln_mut['uds_dx_der'] = \\\n",
    "np.where(df_u3_cln_mut['mcinon1'] == 1.0, \n",
    "         'MCI', df_u3_cln_mut['uds_dx_der'])"
   ]
  },
  {
   "cell_type": "code",
   "execution_count": 28,
   "metadata": {},
   "outputs": [],
   "source": [
    "# MCI\n",
    "df_u3_cln_mut['uds_dx_der'] = \\\n",
    "np.where(df_u3_cln_mut['mciaplus'] == 1.0, \n",
    "         'MCI', df_u3_cln_mut['uds_dx_der'])"
   ]
  },
  {
   "cell_type": "code",
   "execution_count": 29,
   "metadata": {},
   "outputs": [],
   "source": [
    "# MCI\n",
    "df_u3_cln_mut['uds_dx_der'] = \\\n",
    "np.where(df_u3_cln_mut['mciamem'] == 1.0, \n",
    "         'MCI', df_u3_cln_mut['uds_dx_der'])"
   ]
  },
  {
   "cell_type": "code",
   "execution_count": 30,
   "metadata": {},
   "outputs": [],
   "source": [
    "# NL\n",
    "df_u3_cln_mut['uds_dx_der'] = \\\n",
    "np.where(df_u3_cln_mut['normcog'] == 1.0, \n",
    "         'NL', df_u3_cln_mut['uds_dx_der'])"
   ]
  },
  {
   "cell_type": "code",
   "execution_count": 31,
   "metadata": {},
   "outputs": [],
   "source": [
    "# df_u3_cln_mut['uds_dx_der'].tolist()"
   ]
  },
  {
   "cell_type": "code",
   "execution_count": 32,
   "metadata": {},
   "outputs": [
    {
     "name": "stdout",
     "output_type": "stream",
     "text": [
      "<class 'pandas.core.frame.DataFrame'>\n",
      "RangeIndex: 477 entries, 0 to 476\n",
      "Columns: 174 entries, Unnamed: 0 to uds_dx_der\n",
      "dtypes: float64(155), int64(2), object(17)\n",
      "memory usage: 648.5+ KB\n"
     ]
    }
   ],
   "source": [
    "df_u3_cln_mut.info()"
   ]
  },
  {
   "cell_type": "code",
   "execution_count": null,
   "metadata": {},
   "outputs": [],
   "source": []
  }
 ],
 "metadata": {
  "kernelspec": {
   "display_name": "Python 3",
   "language": "python",
   "name": "python3"
  },
  "language_info": {
   "codemirror_mode": {
    "name": "ipython",
    "version": 3
   },
   "file_extension": ".py",
   "mimetype": "text/x-python",
   "name": "python",
   "nbconvert_exporter": "python",
   "pygments_lexer": "ipython3",
   "version": "3.7.2"
  }
 },
 "nbformat": 4,
 "nbformat_minor": 2
}
