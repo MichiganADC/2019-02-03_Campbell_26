{
 "cells": [
  {
   "cell_type": "markdown",
   "metadata": {},
   "source": [
    "# 2019-02-03_Campbell_26"
   ]
  },
  {
   "cell_type": "markdown",
   "metadata": {},
   "source": [
    "| Info   |                      |\n",
    "|--------|----------------------|\n",
    "| Author | L. D. Nicolas May    |\n",
    "| Date   | 2019-02-23           |\n",
    "| Note   | This is a re-creation of a dataset that was built using R in order to get data munging experience with Python |"
   ]
  },
  {
   "cell_type": "markdown",
   "metadata": {},
   "source": [
    "## Load Requirements"
   ]
  },
  {
   "cell_type": "markdown",
   "metadata": {},
   "source": [
    "### Load useful globals and functions"
   ]
  },
  {
   "cell_type": "code",
   "execution_count": 1,
   "metadata": {},
   "outputs": [],
   "source": [
    "from config import *"
   ]
  },
  {
   "cell_type": "markdown",
   "metadata": {},
   "source": [
    "### Load packages"
   ]
  },
  {
   "cell_type": "code",
   "execution_count": 2,
   "metadata": {},
   "outputs": [],
   "source": [
    "# Package(s) for REDCap API\n",
    "import pycurl\n",
    "from io import BytesIO\n",
    "import certifi\n",
    "\n",
    "# Package(s) for munging data\n",
    "import pandas as pd\n",
    "import numpy as np"
   ]
  },
  {
   "cell_type": "markdown",
   "metadata": {},
   "source": [
    "## Get Data"
   ]
  },
  {
   "cell_type": "markdown",
   "metadata": {},
   "source": [
    "### Define data fields and forms"
   ]
  },
  {
   "cell_type": "markdown",
   "metadata": {},
   "source": [
    "#### UDS 3"
   ]
  },
  {
   "cell_type": "code",
   "execution_count": 3,
   "metadata": {},
   "outputs": [],
   "source": [
    "#---------#---------#---------#---------#---------#---------#---------#---------\n",
    "\n",
    "# FIELDS\n",
    "\n",
    "# Form Header\n",
    "fields_u3_hd_raw = [\n",
    "    'ptid'\n",
    "    , 'form_date'\n",
    "]\n",
    "# Form C2 - IVP\n",
    "fields_u3_c2_raw = [\n",
    "    'mocatots'\n",
    "    , 'trailb_c2'\n",
    "    , 'trailbrr_c2'\n",
    "    , 'trailbli_c2'\n",
    "    , 'trailb_c2z'\n",
    "]\n",
    "# Form D1 - IVP\n",
    "fields_u3_d1_raw = [\n",
    "    'normcog'    # NL\n",
    "    , 'mciamem'  # MCI\n",
    "    , 'mciaplus' # MCI\n",
    "    , 'mcinon1'  # MCI\n",
    "    , 'mcinon2'  # MCI\n",
    "    , 'impnomci' # Impaired not MCI\n",
    "    , 'alzdis'   # AD etio\n",
    "    , 'alzdisif'\n",
    "    , 'lbdis'    # LBD etio\n",
    "    , 'lbdif'\n",
    "    , 'msa'      # MSA etio\n",
    "    , 'msaif'\n",
    "    , 'psp'      # PSP etio\n",
    "    , 'pspif'\n",
    "    , 'ftldmo'   # FTLD motor etio\n",
    "    , 'ftldmoif'\n",
    "    , 'ftldnos'  # FTLD NOS etio\n",
    "    , 'ftldnoif'\n",
    "]\n",
    "# Combine fields, prefixing C2 and D1 with \"fu_\" and \"tele_\"\n",
    "fields_u3_raw = \\\n",
    "    fields_u3_hd_raw + \\\n",
    "    fields_u3_c2_raw + \\\n",
    "    ['fu_' + f for f in fields_u3_c2_raw] + \\\n",
    "    ['tele_' + f for f in fields_u3_c2_raw] + \\\n",
    "    fields_u3_d1_raw + \\\n",
    "    ['fu_' + f for f in fields_u3_d1_raw] + \\\n",
    "    ['tele_' + f for f in fields_u3_d1_raw]\n",
    "\n",
    "fields_u3 = ','.join(fields_u3_raw)\n",
    "# print(fields_u3)\n",
    "\n",
    "\n",
    "# FORMS\n",
    "\n",
    "forms_u3_raw = [\n",
    "    # Lichtenberg Financial Decision Making Self Efficacy Form\n",
    "    'financial_decision_making_self_efficacy_form'\n",
    "    # Lichtenberg Financial Decision Making Screening Scale\n",
    "    , 'lfdss_for_professionals'\n",
    "]\n",
    "\n",
    "forms_u3 = ','.join(forms_u3_raw)\n",
    "# print(forms_u3)"
   ]
  },
  {
   "cell_type": "code",
   "execution_count": 5,
   "metadata": {},
   "outputs": [],
   "source": [
    "#---------#---------#---------#---------#---------#---------#---------#---------\n",
    "\n",
    "# certifi.where()\n",
    "\n",
    "data = [\n",
    "    ('token',                  ('6113F92032EA4C054E574EBD226AFBAF')),\n",
    "    ('content',                ('record')),\n",
    "    ('format',                 ('json')),\n",
    "    ('type',                   ('flat')),\n",
    "    ('rawOrLabel',             ('raw')),\n",
    "    ('rawOrLabelHeaders',      ('raw')),\n",
    "    ('exportCheckboxLabel',    ('false')),\n",
    "    ('exportSurveyFields',     ('false')),\n",
    "    ('exportDataAccessGroups', ('false')),\n",
    "    ('returnFormat',           ('json')),\n",
    "    ('fields',                 (fields_u3)),\n",
    "    ('forms',                  (forms_u3))\n",
    "]\n",
    "\n",
    "buf = BytesIO()\n",
    "\n",
    "c = pycurl.Curl()\n",
    "\n",
    "c.setopt(pycurl.CAINFO, certifi.where())\n",
    "c.setopt(pycurl.URL, REDCAP_API_URI)\n",
    "c.setopt(pycurl.HTTPPOST, data)\n",
    "c.setopt(c.WRITEFUNCTION, buf.write)\n",
    "c.setopt(c.SSL_VERIFYPEER, False)\n",
    "# ^^^ UM MICHR REDCap server can't verify local certificate (???)\n",
    "\n",
    "c.perform()\n",
    "c.close()"
   ]
  },
  {
   "cell_type": "code",
   "execution_count": 6,
   "metadata": {},
   "outputs": [],
   "source": [
    "# Get JSON\n",
    "json_u3 = buf.getvalue()"
   ]
  },
  {
   "cell_type": "code",
   "execution_count": 7,
   "metadata": {},
   "outputs": [],
   "source": [
    "# Parse JSON as pandas df\n",
    "df_u3 = pd.read_json(json_u3, convert_dates=['form_date'])"
   ]
  },
  {
   "cell_type": "code",
   "execution_count": 8,
   "metadata": {},
   "outputs": [],
   "source": [
    "# Write to CSV\n",
    "df_u3.to_csv('py_df_u3.csv')\n",
    "\n",
    "# Read CSV\n",
    "df_u3 = pd.read_csv('py_df_u3.csv', sep=',')"
   ]
  },
  {
   "cell_type": "code",
   "execution_count": 9,
   "metadata": {},
   "outputs": [],
   "source": [
    "# df_u3.head(n=10)"
   ]
  },
  {
   "cell_type": "code",
   "execution_count": 10,
   "metadata": {},
   "outputs": [
    {
     "data": {
      "text/plain": [
       "Unnamed: 0                                                 int64\n",
       "age_categories_4                                         float64\n",
       "alzdis                                                   float64\n",
       "alzdisif                                                 float64\n",
       "case_outcom___1                                          float64\n",
       "case_outcom___2                                          float64\n",
       "details_change_plans                                      object\n",
       "details_financial_decision                                object\n",
       "details_financial_goal                                    object\n",
       "details_impact                                            object\n",
       "details_neg_affected                                      object\n",
       "details_of_purpose                                        object\n",
       "details_of_whose_idea                                     object\n",
       "details_risk                                              object\n",
       "details_talk_to_anyone                                    object\n",
       "details_who_benefits                                      object\n",
       "education_category                                       float64\n",
       "financial_decision_making_self_efficacy_form_complete    float64\n",
       "form_date                                                 object\n",
       "ftldmo                                                   float64\n",
       "ftldmoif                                                 float64\n",
       "ftldnoif                                                 float64\n",
       "ftldnos                                                  float64\n",
       "fu_alzdis                                                float64\n",
       "fu_alzdisif                                              float64\n",
       "fu_ftldmo                                                float64\n",
       "fu_ftldmoif                                              float64\n",
       "fu_ftldnoif                                              float64\n",
       "fu_ftldnos                                               float64\n",
       "fu_impnomci                                              float64\n",
       "                                                          ...   \n",
       "worker_4___3                                             float64\n",
       "worker_4___4                                             float64\n",
       "worker_4___5                                             float64\n",
       "worker_4___6                                             float64\n",
       "worker_4___7                                             float64\n",
       "worker_4___8                                             float64\n",
       "worker_4___9                                             float64\n",
       "worker_5___0                                             float64\n",
       "worker_5___1                                             float64\n",
       "worker_5___2                                             float64\n",
       "worker_5___3                                             float64\n",
       "worker_6___0                                             float64\n",
       "worker_6___1                                             float64\n",
       "worker_6___2                                             float64\n",
       "worker_6___3                                             float64\n",
       "worker_7___0                                             float64\n",
       "worker_7___1                                             float64\n",
       "worker_7___2                                             float64\n",
       "worker_7___3                                             float64\n",
       "worker_7___4                                             float64\n",
       "worker_8___1                                             float64\n",
       "worker_8___2                                             float64\n",
       "worker_8___3                                             float64\n",
       "worker_8___4                                             float64\n",
       "worker_8___5                                             float64\n",
       "worker_8___6                                             float64\n",
       "worker_8___7                                             float64\n",
       "worker_9___0                                             float64\n",
       "worker_9___1                                             float64\n",
       "worker_9___2                                             float64\n",
       "Length: 213, dtype: object"
      ]
     },
     "execution_count": 10,
     "metadata": {},
     "output_type": "execute_result"
    }
   ],
   "source": [
    "df_u3.dtypes"
   ]
  },
  {
   "cell_type": "code",
   "execution_count": 11,
   "metadata": {},
   "outputs": [],
   "source": [
    "# Reorder `df_u3` columns as they're originally listed\n",
    "\n",
    "# fields_u3_raw[1:20]\n",
    "\n",
    "orig_cols = df_u3.columns.tolist()\n",
    "# cols\n",
    "\n",
    "ordered_cols = list(filter(lambda f: f in orig_cols, fields_u3_raw))\n",
    "# ordered_cols\n",
    "remaining_cols = list(filter(lambda f: f not in ordered_cols, orig_cols))\n",
    "# remaining_cols\n",
    "reordered_cols = ordered_cols + remaining_cols\n",
    "\n",
    "df_u3 = df_u3[reordered_cols]"
   ]
  },
  {
   "cell_type": "markdown",
   "metadata": {},
   "source": [
    "## Process Data"
   ]
  },
  {
   "cell_type": "markdown",
   "metadata": {},
   "source": [
    "### Clean Data"
   ]
  },
  {
   "cell_type": "markdown",
   "metadata": {},
   "source": [
    "#### UDS 3"
   ]
  },
  {
   "cell_type": "markdown",
   "metadata": {},
   "source": [
    "Clean out DDE records (`--1`, `--2`)"
   ]
  },
  {
   "cell_type": "code",
   "execution_count": 12,
   "metadata": {},
   "outputs": [],
   "source": [
    "# df_u3['ptid'].str.match(r'^UM\\d{8}$')\n",
    "df_u3_cln = df_u3.loc[df_u3['ptid'].str.match(r'^UM\\d{8}$')]"
   ]
  },
  {
   "cell_type": "markdown",
   "metadata": {},
   "source": [
    "Clean out records missing `form_date`s"
   ]
  },
  {
   "cell_type": "code",
   "execution_count": 13,
   "metadata": {},
   "outputs": [],
   "source": [
    "# df_u3['form_date'].notnull()\n",
    "df_u3_cln = df_u3.loc[df_u3['form_date'].notnull()]"
   ]
  },
  {
   "cell_type": "markdown",
   "metadata": {},
   "source": [
    "### Mutate Data"
   ]
  },
  {
   "cell_type": "markdown",
   "metadata": {},
   "source": [
    "#### UDS 3"
   ]
  },
  {
   "cell_type": "code",
   "execution_count": null,
   "metadata": {},
   "outputs": [],
   "source": []
  },
  {
   "cell_type": "code",
   "execution_count": null,
   "metadata": {},
   "outputs": [],
   "source": []
  }
 ],
 "metadata": {
  "kernelspec": {
   "display_name": "Python 3",
   "language": "python",
   "name": "python3"
  },
  "language_info": {
   "codemirror_mode": {
    "name": "ipython",
    "version": 3
   },
   "file_extension": ".py",
   "mimetype": "text/x-python",
   "name": "python",
   "nbconvert_exporter": "python",
   "pygments_lexer": "ipython3",
   "version": "3.7.2"
  }
 },
 "nbformat": 4,
 "nbformat_minor": 2
}
